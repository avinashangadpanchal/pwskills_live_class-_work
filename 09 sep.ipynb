{
 "cells": [
  {
   "cell_type": "code",
   "execution_count": 1,
   "id": "ec8b14bd-672f-43a5-b1a3-b880296dde80",
   "metadata": {},
   "outputs": [
    {
     "data": {
      "text/plain": [
       "['A', 'B', 'C D E F']"
      ]
     },
     "execution_count": 1,
     "metadata": {},
     "output_type": "execute_result"
    }
   ],
   "source": [
    "s1 = \"A B C D E F\"\n",
    "s1.split(' ', 2)"
   ]
  },
  {
   "cell_type": "code",
   "execution_count": 2,
   "id": "a5397908-1a4e-4543-9861-e3be98234136",
   "metadata": {},
   "outputs": [
    {
     "name": "stdout",
     "output_type": "stream",
     "text": [
      "letter p\n",
      "letter w\n",
      "letter s\n",
      "letter k\n",
      "letter i\n"
     ]
    }
   ],
   "source": [
    "for letter in \"pwskills\":\n",
    "    if letter == 'l':\n",
    "        break\n",
    "    print('letter', letter)"
   ]
  },
  {
   "cell_type": "code",
   "execution_count": 3,
   "id": "4879cb5e-59cd-43df-83f2-d23247d7f4ac",
   "metadata": {},
   "outputs": [
    {
     "name": "stdout",
     "output_type": "stream",
     "text": [
      "0\n",
      "1\n",
      "2\n"
     ]
    }
   ],
   "source": [
    "for i in range(5):\n",
    "    if i ==3:\n",
    "        break\n",
    "    print(i)"
   ]
  },
  {
   "cell_type": "code",
   "execution_count": 4,
   "id": "b2618fec-a623-42d5-9f42-833b58599a28",
   "metadata": {},
   "outputs": [
    {
     "name": "stdout",
     "output_type": "stream",
     "text": [
      "1\n",
      "2\n",
      "3\n",
      "4\n",
      "5\n"
     ]
    }
   ],
   "source": [
    "i =1\n",
    "\n",
    "while i <= 10:\n",
    "    print(i)\n",
    "    \n",
    "    if i>=5:\n",
    "        break\n",
    "    i = i+1"
   ]
  },
  {
   "cell_type": "code",
   "execution_count": 5,
   "id": "bb4d5723-7b68-4b2c-a748-d51da38f67c5",
   "metadata": {},
   "outputs": [
    {
     "name": "stdout",
     "output_type": "stream",
     "text": [
      "10\n",
      "20\n",
      "30\n",
      "40\n",
      "50\n"
     ]
    }
   ],
   "source": [
    "number = [10,20,30,40,50,120,110,140]\n",
    "\n",
    "for i in number:\n",
    "    if i>100:\n",
    "        break\n",
    "    print(i)"
   ]
  },
  {
   "cell_type": "code",
   "execution_count": 9,
   "id": "4f89dbdf-b131-4565-8df3-ae8026fb10fe",
   "metadata": {},
   "outputs": [
    {
     "name": "stdout",
     "output_type": "stream",
     "text": [
      "h\n",
      "e\n",
      "l\n",
      "l\n",
      "o\n"
     ]
    }
   ],
   "source": [
    "s = \"hello, world\"\n",
    "\n",
    "for char in s:\n",
    "    print(char)\n",
    "    if char =='o':\n",
    "        break\n",
    "        print(char)"
   ]
  },
  {
   "cell_type": "code",
   "execution_count": 10,
   "id": "04878b89-7885-45f5-9f17-cb1af0e63fdf",
   "metadata": {},
   "outputs": [
    {
     "name": "stdout",
     "output_type": "stream",
     "text": [
      "p\n",
      "w\n",
      "s\n",
      "k\n",
      "l\n",
      "l\n",
      "s\n"
     ]
    }
   ],
   "source": [
    "# \"continue' function will skip the iteration as mentioned in condition and will continue iteration further.\n",
    "for letter in \"pwskills\":\n",
    "    if letter  =='i':\n",
    "        continue\n",
    "    print(letter)"
   ]
  },
  {
   "cell_type": "code",
   "execution_count": 12,
   "id": "04155cc5-01f8-45cb-a224-ccc64a39c1b4",
   "metadata": {},
   "outputs": [
    {
     "name": "stdout",
     "output_type": "stream",
     "text": [
      "0\n",
      "1\n",
      "2\n",
      "4\n"
     ]
    }
   ],
   "source": [
    "# skip 3 to print from iterating in a range function using countinue statemnent. \n",
    "for i in range(5):\n",
    "    if i ==3:\n",
    "        continue\n",
    "    print(i)"
   ]
  },
  {
   "cell_type": "code",
   "execution_count": 15,
   "id": "c69e40d5-0775-4224-8bff-dde7a01846b5",
   "metadata": {},
   "outputs": [
    {
     "name": "stdout",
     "output_type": "stream",
     "text": [
      "1\n",
      "3\n",
      "5\n",
      "7\n",
      "9\n"
     ]
    }
   ],
   "source": [
    "# write a program to print odd number from 1 to 10\n",
    "\n",
    "for i in range(10):\n",
    "    if i%2 == 0:\n",
    "        continue\n",
    "    print(i)"
   ]
  },
  {
   "cell_type": "code",
   "execution_count": 18,
   "id": "222d3a2a-e1b0-45ae-bb90-daffca9dee93",
   "metadata": {},
   "outputs": [
    {
     "name": "stdout",
     "output_type": "stream",
     "text": [
      "p\n",
      "w\n",
      "s\n",
      "k\n",
      "i\n",
      "l\n",
      "l\n",
      "s\n"
     ]
    }
   ],
   "source": [
    "# example of \"pass\" statement\n",
    "\n",
    "for letter in \"pwskills\":\n",
    "    if letter ==\"i\":\n",
    "        pass\n",
    "    print(letter)"
   ]
  },
  {
   "cell_type": "code",
   "execution_count": 19,
   "id": "1cc4294f-0e8a-4b3c-8df4-a0c8f0ff9446",
   "metadata": {},
   "outputs": [],
   "source": [
    "#Topic= function"
   ]
  },
  {
   "cell_type": "code",
   "execution_count": null,
   "id": "40b46ce6-dc39-4a42-a4ff-a2af0bd35815",
   "metadata": {},
   "outputs": [],
   "source": [
    "def function_name(arguments):\n",
    "    # function body\n",
    "    \n",
    "    return"
   ]
  },
  {
   "cell_type": "code",
   "execution_count": 20,
   "id": "cea32333-4735-425e-8b02-f88fe604be5f",
   "metadata": {},
   "outputs": [],
   "source": [
    "def greet():\n",
    "   print(\"hello world!\") "
   ]
  },
  {
   "cell_type": "code",
   "execution_count": 21,
   "id": "b8c0689e-1f1f-402b-bf0b-9c943d3e0b96",
   "metadata": {},
   "outputs": [
    {
     "name": "stdout",
     "output_type": "stream",
     "text": [
      "hello world!\n"
     ]
    }
   ],
   "source": [
    "greet()"
   ]
  },
  {
   "cell_type": "code",
   "execution_count": 22,
   "id": "6e8d681a-9179-46b4-a381-28b9459abe00",
   "metadata": {},
   "outputs": [],
   "source": [
    "def addnum():\n",
    "    a=100\n",
    "    b=233\n",
    "    c= a+b\n",
    "    print(c)"
   ]
  },
  {
   "cell_type": "code",
   "execution_count": 23,
   "id": "754f4930-623c-4420-b3ab-c308541baa34",
   "metadata": {},
   "outputs": [
    {
     "name": "stdout",
     "output_type": "stream",
     "text": [
      "333\n"
     ]
    }
   ],
   "source": [
    "addnum()"
   ]
  },
  {
   "cell_type": "code",
   "execution_count": 27,
   "id": "d16ddefc-8a26-4229-b616-4e44ebbeec13",
   "metadata": {},
   "outputs": [],
   "source": [
    "def addtwonumbers():\n",
    "    a= input(\"enter firdt number\")\n",
    "    b = input(\"enter seconf number\")\n",
    "    c = int(a)+int(b)\n",
    "    print(c)"
   ]
  },
  {
   "cell_type": "code",
   "execution_count": 28,
   "id": "32e04a1d-101a-4e97-8597-108b77a5969d",
   "metadata": {},
   "outputs": [
    {
     "name": "stdin",
     "output_type": "stream",
     "text": [
      "enter firdt number 12\n",
      "enter seconf number 25\n"
     ]
    },
    {
     "name": "stdout",
     "output_type": "stream",
     "text": [
      "37\n"
     ]
    }
   ],
   "source": [
    "addtwonumbers()"
   ]
  },
  {
   "cell_type": "code",
   "execution_count": 29,
   "id": "09250434-d1f7-42d7-9337-ccef3f0d72e4",
   "metadata": {},
   "outputs": [],
   "source": [
    "def multwonumbers(x,y):\n",
    "    a= x\n",
    "    b = y\n",
    "    c =a*b\n",
    "    print(c)"
   ]
  },
  {
   "cell_type": "code",
   "execution_count": 30,
   "id": "9f3486c4-84b2-4d80-b7a0-52714aca58e8",
   "metadata": {},
   "outputs": [
    {
     "name": "stdout",
     "output_type": "stream",
     "text": [
      "50\n"
     ]
    }
   ],
   "source": [
    "multwonumbers(10,5)"
   ]
  },
  {
   "cell_type": "code",
   "execution_count": 31,
   "id": "5681dd16-5a6b-4f3e-bac1-353fb1e03649",
   "metadata": {},
   "outputs": [],
   "source": [
    "def introduction(name):\n",
    "    print(\"hi\", name)"
   ]
  },
  {
   "cell_type": "code",
   "execution_count": 33,
   "id": "9d0a8f9e-68b3-476e-aaa3-5ad1b9afd913",
   "metadata": {},
   "outputs": [
    {
     "name": "stdout",
     "output_type": "stream",
     "text": [
      "hi avinash\n"
     ]
    }
   ],
   "source": [
    "introduction(\"avinash\")"
   ]
  },
  {
   "cell_type": "code",
   "execution_count": 35,
   "id": "89e38611-1bcd-40f4-a729-1d7ac6748591",
   "metadata": {},
   "outputs": [],
   "source": [
    "def full_name(first, last):\n",
    "    print( \"hi\", first, last)"
   ]
  },
  {
   "cell_type": "code",
   "execution_count": 37,
   "id": "e19f0e43-b89f-4268-821a-b3ded171d17b",
   "metadata": {},
   "outputs": [
    {
     "name": "stdout",
     "output_type": "stream",
     "text": [
      "hi avinash  panchal\n"
     ]
    }
   ],
   "source": [
    "full_name(\"avinash\",\" panchal\")"
   ]
  },
  {
   "cell_type": "code",
   "execution_count": 38,
   "id": "b7164aca-916d-4209-b17b-6a40c73e5e77",
   "metadata": {},
   "outputs": [],
   "source": [
    "def absolute(n):\n",
    "    if n>0:\n",
    "        print (n)\n",
    "    else:\n",
    "        print(-n)"
   ]
  },
  {
   "cell_type": "code",
   "execution_count": 39,
   "id": "705bdcae-916f-452b-8a38-45f0c649a15d",
   "metadata": {},
   "outputs": [
    {
     "name": "stdout",
     "output_type": "stream",
     "text": [
      "450\n"
     ]
    }
   ],
   "source": [
    "absolute(-450)"
   ]
  },
  {
   "cell_type": "code",
   "execution_count": 40,
   "id": "74def03e-01f8-472d-baba-1d2474b7b2cb",
   "metadata": {},
   "outputs": [
    {
     "name": "stdout",
     "output_type": "stream",
     "text": [
      "5\n"
     ]
    }
   ],
   "source": [
    "absolute(5)"
   ]
  },
  {
   "cell_type": "code",
   "execution_count": 41,
   "id": "9d8e4d22-36da-4ec9-aadb-109fea91124d",
   "metadata": {},
   "outputs": [],
   "source": [
    "# importance of \"return\"\n",
    "\n",
    "def fullname(a,b):\n",
    "    c = a+b\n",
    "    print (c)"
   ]
  },
  {
   "cell_type": "code",
   "execution_count": 42,
   "id": "ed431488-24fa-41db-8661-8e73bf0057dd",
   "metadata": {},
   "outputs": [
    {
     "name": "stdout",
     "output_type": "stream",
     "text": [
      "pwskills\n"
     ]
    }
   ],
   "source": [
    "fullname('pw','skills')"
   ]
  },
  {
   "cell_type": "code",
   "execution_count": null,
   "id": "932ecebd-e370-4b9b-9b70-fcb9c0b5c2a0",
   "metadata": {},
   "outputs": [],
   "source": [
    "\n",
    "def fullname(a,b):\n",
    "    c = a+b\n",
    "    return (c)"
   ]
  },
  {
   "cell_type": "code",
   "execution_count": 44,
   "id": "7b33de8f-02ed-4ffa-bf7f-93eded557a86",
   "metadata": {},
   "outputs": [
    {
     "name": "stdout",
     "output_type": "stream",
     "text": [
      "pwskills\n"
     ]
    }
   ],
   "source": [
    "x = fullname('pw','skills')"
   ]
  },
  {
   "cell_type": "code",
   "execution_count": 46,
   "id": "5a115ee4-771c-45fe-b5ab-2ab981e2f00a",
   "metadata": {},
   "outputs": [
    {
     "data": {
      "text/plain": [
       "NoneType"
      ]
     },
     "execution_count": 46,
     "metadata": {},
     "output_type": "execute_result"
    }
   ],
   "source": [
    "type(x)"
   ]
  },
  {
   "cell_type": "code",
   "execution_count": 48,
   "id": "1316be29-670c-4bc3-bd39-cd8b427c811a",
   "metadata": {},
   "outputs": [
    {
     "name": "stdout",
     "output_type": "stream",
     "text": [
      "None\n"
     ]
    }
   ],
   "source": [
    "print(x)"
   ]
  },
  {
   "cell_type": "code",
   "execution_count": null,
   "id": "7eecb397-8eed-4f77-b725-ab2b32ea3702",
   "metadata": {},
   "outputs": [],
   "source": [
    "def calculator(a,b):\n",
    "    "
   ]
  },
  {
   "cell_type": "code",
   "execution_count": 53,
   "id": "1c2d94e9-5fd3-4a20-972e-476a3093c3d7",
   "metadata": {},
   "outputs": [],
   "source": [
    "# area of circle\n",
    "def area_cir(radius):\n",
    "    return 3.14*radius*radius"
   ]
  },
  {
   "cell_type": "code",
   "execution_count": 54,
   "id": "cac3a396-c167-4d6e-b73c-6c84502dc4f8",
   "metadata": {},
   "outputs": [
    {
     "data": {
      "text/plain": [
       "1962.5"
      ]
     },
     "execution_count": 54,
     "metadata": {},
     "output_type": "execute_result"
    }
   ],
   "source": [
    "area_cir(25)"
   ]
  },
  {
   "cell_type": "code",
   "execution_count": 62,
   "id": "cc2db844-99c4-41ef-a764-cc5fc551f2bb",
   "metadata": {},
   "outputs": [],
   "source": [
    "def print_even_numbers():\n",
    "    a = int(input(\"enter first number: \"))\n",
    "    b = int(input(\"enter 2nd number: \"))\n",
    "    for i in range(a,b+1):\n",
    "        if i%2 ==0:\n",
    "            print(i)"
   ]
  },
  {
   "cell_type": "code",
   "execution_count": 63,
   "id": "276429df-fcfa-46f7-badd-f3727e1d29cc",
   "metadata": {},
   "outputs": [
    {
     "name": "stdin",
     "output_type": "stream",
     "text": [
      "enter first number:  2\n",
      "enter 2nd number:  20\n"
     ]
    },
    {
     "name": "stdout",
     "output_type": "stream",
     "text": [
      "2\n",
      "4\n",
      "6\n",
      "8\n",
      "10\n",
      "12\n",
      "14\n",
      "16\n",
      "18\n",
      "20\n"
     ]
    }
   ],
   "source": [
    "print_even_numbers()"
   ]
  },
  {
   "cell_type": "code",
   "execution_count": 78,
   "id": "f945f743-c17f-4f24-9fe6-63115ca91875",
   "metadata": {},
   "outputs": [],
   "source": [
    "# check triangle is an right angle triangle\n",
    "\n",
    "def isrightangletriangle():\n",
    "    a = int(input(\"insert length of 1st side of tringle: \"))\n",
    "    b = int(input(\"insert length of 2nd side of tringle: \"))\n",
    "    c = int(input(\"insert length of 3rd side of tringle: \"))\n",
    "    if a**a == b**b + c**c or b**b == a**a + c**c or c**c == b**b + a**a:\n",
    "        print (\"it is a right angle triangle.\")\n",
    "    else:\n",
    "        print(\"it is not a right angle triangle\")"
   ]
  },
  {
   "cell_type": "code",
   "execution_count": 80,
   "id": "3355546f-cdb1-4d6e-b4b5-9aa68de2fed6",
   "metadata": {},
   "outputs": [
    {
     "name": "stdin",
     "output_type": "stream",
     "text": [
      "insert length of 1st side of tringle:  4\n",
      "insert length of 2nd side of tringle:  3\n",
      "insert length of 3rd side of tringle:  5\n"
     ]
    },
    {
     "name": "stdout",
     "output_type": "stream",
     "text": [
      "it is not a right angle triangle\n"
     ]
    }
   ],
   "source": [
    "isrightangletriangle()"
   ]
  }
 ],
 "metadata": {
  "kernelspec": {
   "display_name": "Python 3 (ipykernel)",
   "language": "python",
   "name": "python3"
  },
  "language_info": {
   "codemirror_mode": {
    "name": "ipython",
    "version": 3
   },
   "file_extension": ".py",
   "mimetype": "text/x-python",
   "name": "python",
   "nbconvert_exporter": "python",
   "pygments_lexer": "ipython3",
   "version": "3.10.8"
  }
 },
 "nbformat": 4,
 "nbformat_minor": 5
}
